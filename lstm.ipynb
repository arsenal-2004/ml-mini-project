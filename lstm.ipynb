{
 "cells": [
  {
   "cell_type": "code",
   "execution_count": 1,
   "metadata": {},
   "outputs": [
    {
     "name": "stderr",
     "output_type": "stream",
     "text": [
      "Using TensorFlow backend.\n"
     ]
    }
   ],
   "source": [
    "from keras.models import Sequential\n",
    "from keras.layers.core import Dense, Dropout\n",
    "from keras.layers.recurrent import LSTM\n",
    "from keras import metrics\n",
    "from sklearn.model_selection import train_test_split"
   ]
  },
  {
   "cell_type": "code",
   "execution_count": 2,
   "metadata": {},
   "outputs": [
    {
     "name": "stderr",
     "output_type": "stream",
     "text": [
      "/home/parth/anaconda3/lib/python3.7/site-packages/scipy/signal/signaltools.py:2223: FutureWarning: Using a non-tuple sequence for multidimensional indexing is deprecated; use `arr[tuple(seq)]` instead of `arr[seq]`. In the future this will be interpreted as an array index, `arr[np.array(seq)]`, which will result either in an error or a different result.\n",
      "  Y[sl] = X[sl]\n",
      "/home/parth/anaconda3/lib/python3.7/site-packages/scipy/signal/signaltools.py:2225: FutureWarning: Using a non-tuple sequence for multidimensional indexing is deprecated; use `arr[tuple(seq)]` instead of `arr[seq]`. In the future this will be interpreted as an array index, `arr[np.array(seq)]`, which will result either in an error or a different result.\n",
      "  Y[sl] = X[sl]\n",
      "/home/parth/anaconda3/lib/python3.7/site-packages/scipy/signal/signaltools.py:2233: FutureWarning: Using a non-tuple sequence for multidimensional indexing is deprecated; use `arr[tuple(seq)]` instead of `arr[seq]`. In the future this will be interpreted as an array index, `arr[np.array(seq)]`, which will result either in an error or a different result.\n",
      "  Y[sl] /= 2  # halve the component at -N/2\n",
      "/home/parth/anaconda3/lib/python3.7/site-packages/scipy/signal/signaltools.py:2234: FutureWarning: Using a non-tuple sequence for multidimensional indexing is deprecated; use `arr[tuple(seq)]` instead of `arr[seq]`. In the future this will be interpreted as an array index, `arr[np.array(seq)]`, which will result either in an error or a different result.\n",
      "  temp = Y[sl]\n",
      "/home/parth/anaconda3/lib/python3.7/site-packages/scipy/signal/signaltools.py:2236: FutureWarning: Using a non-tuple sequence for multidimensional indexing is deprecated; use `arr[tuple(seq)]` instead of `arr[seq]`. In the future this will be interpreted as an array index, `arr[np.array(seq)]`, which will result either in an error or a different result.\n",
      "  Y[sl] = temp  # set that equal to the component at -N/2\n"
     ]
    }
   ],
   "source": [
    "import preprocessing\n",
    "X, y, class_names = preprocessing.create_data_tensor()"
   ]
  },
  {
   "cell_type": "code",
   "execution_count": 3,
   "metadata": {},
   "outputs": [
    {
     "name": "stdout",
     "output_type": "stream",
     "text": [
      "Dimensions of X: (2565, 22, 57)\n",
      "Possible Classes: dict_values(['make', 'polite', 'draw', 'soon', 'money', 'cost', 'when', 'innocent', 'pen', 'name', 'know', 'paper', 'no', 'I', 'tray', 'research', 'computer_PC_', 'ready', 'God', 'what', 'wait_notyet_', 'building', 'yes', 'different', 'sad', 'man', 'right', 'later', 'all', 'hurry', 'his_hers', 'hear', 'danger', 'eat', 'drink', 'share', 'thank', 'you', 'temper', 'juice', 'hurt', 'wild', 'please', 'give', 'come', 'glove', 'forget', 'more', 'which', 'shop', 'lose', 'maybe', 'stubborn', 'question', 'where', 'sorry', 'spend', 'girl', 'Norway', 'write', 'science', 'zero', 'buy', 'happy', 'hot', 'not', 'take', 'will', 'head', 'go', 'is_true_', 'think', 'why', 'deaf', 'answer', 'surprise', 'how', 'read', 'love', 'flash', 'boy', 'voluntary', 'hello', 'cold', 'change_mind_', 'mine', 'crazy', 'responsible', 'who', 'joke', 'same', 'wrong', 'alive', 'us', 'exit'])\n"
     ]
    }
   ],
   "source": [
    "print('Dimensions of X:', X.shape)\n",
    "print('Possible Classes:', class_names.values())"
   ]
  },
  {
   "cell_type": "markdown",
   "metadata": {},
   "source": [
    "## Changing the number of classes"
   ]
  },
  {
   "cell_type": "code",
   "execution_count": 4,
   "metadata": {},
   "outputs": [],
   "source": [
    "import numpy as np\n",
    "NUM_CLASSES = 20\n",
    "f = np.isin(y, [i for i in range(NUM_CLASSES)])\n",
    "len(y[f])\n",
    "y = y[f]\n",
    "X = X[f]"
   ]
  },
  {
   "cell_type": "code",
   "execution_count": 5,
   "metadata": {},
   "outputs": [
    {
     "name": "stdout",
     "output_type": "stream",
     "text": [
      "Dimensions of X_train:  (378, 22, 57)\n",
      "Dimensions of X_test:  (162, 22, 57)\n"
     ]
    }
   ],
   "source": [
    "X_train_temp, X_test_temp, y_train, y_test = train_test_split(X, y, test_size=0.3)\n",
    "print('Dimensions of X_train: ', X_train_temp.shape)\n",
    "print('Dimensions of X_test: ', X_test_temp.shape)"
   ]
  },
  {
   "cell_type": "markdown",
   "metadata": {},
   "source": [
    "## Changing the dimensions of the input matrix"
   ]
  },
  {
   "cell_type": "code",
   "execution_count": 6,
   "metadata": {},
   "outputs": [
    {
     "name": "stdout",
     "output_type": "stream",
     "text": [
      "Dimensions after swapping the feature axis with the timesteps axis\n",
      "Dimensions of X_train: (378, 57, 22)\n",
      "Dimensions of X_test: (162, 57, 22)\n"
     ]
    }
   ],
   "source": [
    "X_train = X_train_temp.swapaxes(1, 2)\n",
    "X_test = X_test_temp.swapaxes(1, 2)\n",
    "print('Dimensions after swapping the feature axis with the timesteps axis')\n",
    "print('Dimensions of X_train:', X_train.shape)\n",
    "print('Dimensions of X_test:', X_test.shape)"
   ]
  },
  {
   "cell_type": "markdown",
   "metadata": {},
   "source": [
    "## Two different LSTM models"
   ]
  },
  {
   "cell_type": "code",
   "execution_count": 7,
   "metadata": {},
   "outputs": [
    {
     "name": "stdout",
     "output_type": "stream",
     "text": [
      "WARNING:tensorflow:From /home/parth/anaconda3/lib/python3.7/site-packages/tensorflow/python/framework/op_def_library.py:263: colocate_with (from tensorflow.python.framework.ops) is deprecated and will be removed in a future version.\n",
      "Instructions for updating:\n",
      "Colocations handled automatically by placer.\n"
     ]
    }
   ],
   "source": [
    "lstm_model = Sequential()\n",
    "\n",
    "# Model 1\n",
    "lstm_model.add(LSTM(units=32, input_shape=(57, 22), return_sequences=True))\n",
    "lstm_model.add(LSTM(units=32, return_sequences=True))\n",
    "lstm_model.add(LSTM(units=300))\n",
    "\n",
    "# Model 2\n",
    "# lstm_model.add(LSTM(units=500, input_shape=(57, 22), return_sequences=True))\n",
    "# lstm_model.add(LSTM(units=500))\n",
    "# lstm_model.add(Dropout(0.5))\n",
    "\n",
    "lstm_model.add(Dense(NUM_CLASSES, activation='tanh'))\n",
    "# lstm_model.compile(loss='mean_squared_error', optimizer='rmsprop', metrics=['accuracy'])\n",
    "lstm_model.compile(loss='mean_squared_error', optimizer='rmsprop', metrics=['accuracy'])"
   ]
  },
  {
   "cell_type": "markdown",
   "metadata": {},
   "source": [
    "## Training"
   ]
  },
  {
   "cell_type": "code",
   "execution_count": 8,
   "metadata": {},
   "outputs": [
    {
     "name": "stdout",
     "output_type": "stream",
     "text": [
      "WARNING:tensorflow:From /home/parth/anaconda3/lib/python3.7/site-packages/tensorflow/python/ops/math_ops.py:3066: to_int32 (from tensorflow.python.ops.math_ops) is deprecated and will be removed in a future version.\n",
      "Instructions for updating:\n",
      "Use tf.cast instead.\n",
      "Epoch 1/30\n",
      "378/378 [==============================] - 10s 26ms/step - loss: 0.0487 - acc: 0.0397\n",
      "Epoch 2/30\n",
      "378/378 [==============================] - 7s 20ms/step - loss: 0.0479 - acc: 0.0529\n",
      "Epoch 3/30\n",
      "378/378 [==============================] - 7s 20ms/step - loss: 0.0477 - acc: 0.0714\n",
      "Epoch 4/30\n",
      "378/378 [==============================] - 7s 20ms/step - loss: 0.0479 - acc: 0.0635\n",
      "Epoch 5/30\n",
      "378/378 [==============================] - 8s 20ms/step - loss: 0.0469 - acc: 0.0688\n",
      "Epoch 6/30\n",
      "378/378 [==============================] - 8s 20ms/step - loss: 0.0459 - acc: 0.1243\n",
      "Epoch 7/30\n",
      "378/378 [==============================] - 8s 20ms/step - loss: 0.0452 - acc: 0.1825\n",
      "Epoch 8/30\n",
      "378/378 [==============================] - 7s 20ms/step - loss: 0.0446 - acc: 0.1958\n",
      "Epoch 9/30\n",
      "378/378 [==============================] - 8s 20ms/step - loss: 0.0431 - acc: 0.2487\n",
      "Epoch 10/30\n",
      "378/378 [==============================] - 8s 20ms/step - loss: 0.0416 - acc: 0.3148\n",
      "Epoch 11/30\n",
      "378/378 [==============================] - 8s 20ms/step - loss: 0.0402 - acc: 0.3360\n",
      "Epoch 12/30\n",
      "378/378 [==============================] - 8s 20ms/step - loss: 0.0396 - acc: 0.3466\n",
      "Epoch 13/30\n",
      "378/378 [==============================] - 8s 21ms/step - loss: 0.0382 - acc: 0.3810\n",
      "Epoch 14/30\n",
      "378/378 [==============================] - 8s 21ms/step - loss: 0.0354 - acc: 0.4630\n",
      "Epoch 15/30\n",
      "378/378 [==============================] - 8s 21ms/step - loss: 0.0342 - acc: 0.4974\n",
      "Epoch 16/30\n",
      "378/378 [==============================] - 8s 21ms/step - loss: 0.0321 - acc: 0.5238\n",
      "Epoch 17/30\n",
      "378/378 [==============================] - 8s 21ms/step - loss: 0.0302 - acc: 0.5899\n",
      "Epoch 18/30\n",
      "378/378 [==============================] - 8s 21ms/step - loss: 0.0287 - acc: 0.6085\n",
      "Epoch 19/30\n",
      "378/378 [==============================] - 8s 22ms/step - loss: 0.0258 - acc: 0.6481\n",
      "Epoch 20/30\n",
      "378/378 [==============================] - 8s 22ms/step - loss: 0.0246 - acc: 0.6508\n",
      "Epoch 21/30\n",
      "378/378 [==============================] - 8s 21ms/step - loss: 0.0240 - acc: 0.6852\n",
      "Epoch 22/30\n",
      "378/378 [==============================] - 8s 21ms/step - loss: 0.0230 - acc: 0.6640\n",
      "Epoch 23/30\n",
      "378/378 [==============================] - 8s 21ms/step - loss: 0.0213 - acc: 0.7275\n",
      "Epoch 24/30\n",
      "378/378 [==============================] - 8s 21ms/step - loss: 0.0214 - acc: 0.7011\n",
      "Epoch 25/30\n",
      "378/378 [==============================] - 8s 21ms/step - loss: 0.0188 - acc: 0.7381\n",
      "Epoch 26/30\n",
      "378/378 [==============================] - 8s 21ms/step - loss: 0.0175 - acc: 0.7778\n",
      "Epoch 27/30\n",
      "378/378 [==============================] - 8s 21ms/step - loss: 0.0160 - acc: 0.7937\n",
      "Epoch 28/30\n",
      "378/378 [==============================] - 8s 21ms/step - loss: 0.0168 - acc: 0.7831\n",
      "Epoch 29/30\n",
      "378/378 [==============================] - 8s 21ms/step - loss: 0.0153 - acc: 0.7963\n",
      "Epoch 30/30\n",
      "378/378 [==============================] - 8s 22ms/step - loss: 0.0155 - acc: 0.7884\n"
     ]
    },
    {
     "data": {
      "text/plain": [
       "<keras.callbacks.History at 0x7ffb340b24e0>"
      ]
     },
     "execution_count": 8,
     "metadata": {},
     "output_type": "execute_result"
    }
   ],
   "source": [
    "from keras.utils import to_categorical\n",
    "lstm_model.fit(X_train, to_categorical(y_train), batch_size=16, epochs=30)"
   ]
  },
  {
   "cell_type": "markdown",
   "metadata": {},
   "source": [
    "## Evaluation"
   ]
  },
  {
   "cell_type": "code",
   "execution_count": 9,
   "metadata": {},
   "outputs": [
    {
     "name": "stdout",
     "output_type": "stream",
     "text": [
      "162/162 [==============================] - 2s 11ms/step\n",
      "[0.017735756651992785, 0.7407407407407407]\n"
     ]
    }
   ],
   "source": [
    "score = lstm_model.evaluate(X_test, to_categorical(y_test), batch_size=8)\n",
    "print(score)"
   ]
  }
 ],
 "metadata": {
  "kernelspec": {
   "display_name": "Python 3",
   "language": "python",
   "name": "python3"
  },
  "language_info": {
   "codemirror_mode": {
    "name": "ipython",
    "version": 3
   },
   "file_extension": ".py",
   "mimetype": "text/x-python",
   "name": "python",
   "nbconvert_exporter": "python",
   "pygments_lexer": "ipython3",
   "version": "3.7.1"
  }
 },
 "nbformat": 4,
 "nbformat_minor": 2
}
