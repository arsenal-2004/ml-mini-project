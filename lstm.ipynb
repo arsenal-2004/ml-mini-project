{
 "cells": [
  {
   "cell_type": "code",
   "execution_count": 5,
   "metadata": {},
   "outputs": [],
   "source": [
    "from keras.models import Sequential\n",
    "from keras.layers.core import Dense, Dropout\n",
    "from keras.layers.recurrent import LSTM\n",
    "from keras import metrics\n",
    "from sklearn.model_selection import train_test_split"
   ]
  },
  {
   "cell_type": "code",
   "execution_count": 3,
   "metadata": {},
   "outputs": [
    {
     "name": "stderr",
     "output_type": "stream",
     "text": [
      "/home/parth/anaconda3/lib/python3.7/site-packages/scipy/signal/signaltools.py:2223: FutureWarning: Using a non-tuple sequence for multidimensional indexing is deprecated; use `arr[tuple(seq)]` instead of `arr[seq]`. In the future this will be interpreted as an array index, `arr[np.array(seq)]`, which will result either in an error or a different result.\n",
      "  Y[sl] = X[sl]\n",
      "/home/parth/anaconda3/lib/python3.7/site-packages/scipy/signal/signaltools.py:2225: FutureWarning: Using a non-tuple sequence for multidimensional indexing is deprecated; use `arr[tuple(seq)]` instead of `arr[seq]`. In the future this will be interpreted as an array index, `arr[np.array(seq)]`, which will result either in an error or a different result.\n",
      "  Y[sl] = X[sl]\n",
      "/home/parth/anaconda3/lib/python3.7/site-packages/scipy/signal/signaltools.py:2233: FutureWarning: Using a non-tuple sequence for multidimensional indexing is deprecated; use `arr[tuple(seq)]` instead of `arr[seq]`. In the future this will be interpreted as an array index, `arr[np.array(seq)]`, which will result either in an error or a different result.\n",
      "  Y[sl] /= 2  # halve the component at -N/2\n",
      "/home/parth/anaconda3/lib/python3.7/site-packages/scipy/signal/signaltools.py:2234: FutureWarning: Using a non-tuple sequence for multidimensional indexing is deprecated; use `arr[tuple(seq)]` instead of `arr[seq]`. In the future this will be interpreted as an array index, `arr[np.array(seq)]`, which will result either in an error or a different result.\n",
      "  temp = Y[sl]\n",
      "/home/parth/anaconda3/lib/python3.7/site-packages/scipy/signal/signaltools.py:2236: FutureWarning: Using a non-tuple sequence for multidimensional indexing is deprecated; use `arr[tuple(seq)]` instead of `arr[seq]`. In the future this will be interpreted as an array index, `arr[np.array(seq)]`, which will result either in an error or a different result.\n",
      "  Y[sl] = temp  # set that equal to the component at -N/2\n"
     ]
    }
   ],
   "source": [
    "import preprocessing\n",
    "X, y, class_names = preprocessing.create_data_tensor()"
   ]
  },
  {
   "cell_type": "code",
   "execution_count": 4,
   "metadata": {},
   "outputs": [
    {
     "name": "stdout",
     "output_type": "stream",
     "text": [
      "Dimensions of X: (2565, 22, 57)\n",
      "Possible Classes: dict_values(['make', 'polite', 'draw', 'soon', 'money', 'cost', 'when', 'innocent', 'pen', 'name', 'know', 'paper', 'no', 'I', 'tray', 'research', 'computer_PC_', 'ready', 'God', 'what', 'wait_notyet_', 'building', 'yes', 'different', 'sad', 'man', 'right', 'later', 'all', 'hurry', 'his_hers', 'hear', 'danger', 'eat', 'drink', 'share', 'thank', 'you', 'temper', 'juice', 'hurt', 'wild', 'please', 'give', 'come', 'glove', 'forget', 'more', 'which', 'shop', 'lose', 'maybe', 'stubborn', 'question', 'where', 'sorry', 'spend', 'girl', 'Norway', 'write', 'science', 'zero', 'buy', 'happy', 'hot', 'not', 'take', 'will', 'head', 'go', 'is_true_', 'think', 'why', 'deaf', 'answer', 'surprise', 'how', 'read', 'love', 'flash', 'boy', 'voluntary', 'hello', 'cold', 'change_mind_', 'mine', 'crazy', 'responsible', 'who', 'joke', 'same', 'wrong', 'alive', 'us', 'exit'])\n"
     ]
    }
   ],
   "source": [
    "print('Dimensions of X:', X.shape)\n",
    "print('Possible Classes:', class_names.values())"
   ]
  },
  {
   "cell_type": "code",
   "execution_count": 7,
   "metadata": {},
   "outputs": [
    {
     "name": "stdout",
     "output_type": "stream",
     "text": [
      "Dimensions of X_train:  (1795, 22, 57)\n",
      "Dimensions of X_test:  (770, 22, 57)\n"
     ]
    }
   ],
   "source": [
    "X_train_temp, X_test_temp, y_train, y_test = train_test_split(X, y, test_size=0.3)\n",
    "print('Dimensions of X_train: ', X_train_temp.shape)\n",
    "print('Dimensions of X_test: ', X_test_temp.shape)"
   ]
  },
  {
   "cell_type": "markdown",
   "metadata": {},
   "source": [
    "## Changing the dimensions of the input matrix"
   ]
  },
  {
   "cell_type": "code",
   "execution_count": 8,
   "metadata": {},
   "outputs": [
    {
     "name": "stdout",
     "output_type": "stream",
     "text": [
      "Dimensions after swapping the feature axis with the timesteps axis\n",
      "Dimensions of X_train: (1795, 57, 22)\n",
      "Dimensions of X_test: (770, 57, 22)\n"
     ]
    }
   ],
   "source": [
    "X_train = X_train_temp.swapaxes(1, 2)\n",
    "X_test = X_test_temp.swapaxes(1, 2)\n",
    "print('Dimensions after swapping the feature axis with the timesteps axis')\n",
    "print('Dimensions of X_train:', X_train.shape)\n",
    "print('Dimensions of X_test:', X_test.shape)"
   ]
  },
  {
   "cell_type": "markdown",
   "metadata": {},
   "source": [
    "## Two different LSTM models"
   ]
  },
  {
   "cell_type": "code",
   "execution_count": 28,
   "metadata": {},
   "outputs": [],
   "source": [
    "lstm_model = Sequential()\n",
    "\n",
    "# Model 1\n",
    "lstm_model.add(LSTM(units=300, input_shape=(57, 22), return_sequences=True))\n",
    "lstm_model.add(LSTM(units=300))\n",
    "\n",
    "# Model 2\n",
    "# lstm_model.add(LSTM(units=500, input_shape=(57, 22), return_sequences=True))\n",
    "# lstm_model.add(LSTM(units=500))\n",
    "# lstm_model.add(Dropout(0.2))\n",
    "\n",
    "lstm_model.add(Dense(95, activation='tanh'))\n",
    "lstm_model.compile(loss='mean_squared_error', optimizer='rmsprop', metrics=['accuracy'])"
   ]
  },
  {
   "cell_type": "markdown",
   "metadata": {},
   "source": [
    "## Training"
   ]
  },
  {
   "cell_type": "code",
   "execution_count": 31,
   "metadata": {},
   "outputs": [
    {
     "name": "stdout",
     "output_type": "stream",
     "text": [
      "Epoch 1/10\n",
      "1795/1795 [==============================] - 59s 33ms/step - loss: 0.0103 - acc: 0.0407\n",
      "Epoch 2/10\n",
      "1795/1795 [==============================] - 61s 34ms/step - loss: 0.0103 - acc: 0.0474\n",
      "Epoch 3/10\n",
      "1795/1795 [==============================] - 64s 36ms/step - loss: 0.0103 - acc: 0.0552\n",
      "Epoch 4/10\n",
      "1795/1795 [==============================] - 67s 38ms/step - loss: 0.0103 - acc: 0.0546\n",
      "Epoch 5/10\n",
      "1795/1795 [==============================] - 68s 38ms/step - loss: 0.0103 - acc: 0.0663\n",
      "Epoch 6/10\n",
      "1795/1795 [==============================] - 63s 35ms/step - loss: 0.0102 - acc: 0.0680\n",
      "Epoch 7/10\n",
      "1795/1795 [==============================] - 63s 35ms/step - loss: 0.0102 - acc: 0.0691\n",
      "Epoch 8/10\n",
      "1795/1795 [==============================] - 63s 35ms/step - loss: 0.0102 - acc: 0.0791\n",
      "Epoch 9/10\n",
      "1795/1795 [==============================] - 63s 35ms/step - loss: 0.0101 - acc: 0.0914\n",
      "Epoch 10/10\n",
      "1795/1795 [==============================] - 63s 35ms/step - loss: 0.0101 - acc: 0.1097\n"
     ]
    },
    {
     "data": {
      "text/plain": [
       "<keras.callbacks.History at 0x7fdae08a9940>"
      ]
     },
     "execution_count": 31,
     "metadata": {},
     "output_type": "execute_result"
    }
   ],
   "source": [
    "from keras.utils import to_categorical\n",
    "lstm_model.fit(X_train, to_categorical(y_train), batch_size=16, epochs=10)"
   ]
  },
  {
   "cell_type": "markdown",
   "metadata": {},
   "source": [
    "## Evaluation"
   ]
  },
  {
   "cell_type": "code",
   "execution_count": 32,
   "metadata": {},
   "outputs": [
    {
     "name": "stdout",
     "output_type": "stream",
     "text": [
      "770/770 [==============================] - 9s 11ms/step\n",
      "[0.010214548137087326, 0.05064935064935065]\n"
     ]
    }
   ],
   "source": [
    "score = lstm_model.evaluate(X_test, to_categorical(y_test), batch_size=8)\n",
    "print(score)"
   ]
  }
 ],
 "metadata": {
  "kernelspec": {
   "display_name": "Python 3",
   "language": "python",
   "name": "python3"
  },
  "language_info": {
   "codemirror_mode": {
    "name": "ipython",
    "version": 3
   },
   "file_extension": ".py",
   "mimetype": "text/x-python",
   "name": "python",
   "nbconvert_exporter": "python",
   "pygments_lexer": "ipython3",
   "version": "3.7.1"
  }
 },
 "nbformat": 4,
 "nbformat_minor": 2
}
