{
 "cells": [
  {
   "cell_type": "code",
   "execution_count": 1,
   "metadata": {},
   "outputs": [],
   "source": [
    "from sklearn.model_selection import train_test_split\n",
    "from sklearn.linear_model import LogisticRegression\n",
    "from sklearn import metrics\n",
    "import preprocessing"
   ]
  },
  {
   "cell_type": "markdown",
   "metadata": {},
   "source": [
    "## Preprocessing and temporal scaling"
   ]
  },
  {
   "cell_type": "code",
   "execution_count": 2,
   "metadata": {},
   "outputs": [
    {
     "name": "stderr",
     "output_type": "stream",
     "text": [
      "/home/parth/anaconda3/lib/python3.7/site-packages/scipy/signal/signaltools.py:2223: FutureWarning: Using a non-tuple sequence for multidimensional indexing is deprecated; use `arr[tuple(seq)]` instead of `arr[seq]`. In the future this will be interpreted as an array index, `arr[np.array(seq)]`, which will result either in an error or a different result.\n",
      "  Y[sl] = X[sl]\n",
      "/home/parth/anaconda3/lib/python3.7/site-packages/scipy/signal/signaltools.py:2225: FutureWarning: Using a non-tuple sequence for multidimensional indexing is deprecated; use `arr[tuple(seq)]` instead of `arr[seq]`. In the future this will be interpreted as an array index, `arr[np.array(seq)]`, which will result either in an error or a different result.\n",
      "  Y[sl] = X[sl]\n",
      "/home/parth/anaconda3/lib/python3.7/site-packages/scipy/signal/signaltools.py:2233: FutureWarning: Using a non-tuple sequence for multidimensional indexing is deprecated; use `arr[tuple(seq)]` instead of `arr[seq]`. In the future this will be interpreted as an array index, `arr[np.array(seq)]`, which will result either in an error or a different result.\n",
      "  Y[sl] /= 2  # halve the component at -N/2\n",
      "/home/parth/anaconda3/lib/python3.7/site-packages/scipy/signal/signaltools.py:2234: FutureWarning: Using a non-tuple sequence for multidimensional indexing is deprecated; use `arr[tuple(seq)]` instead of `arr[seq]`. In the future this will be interpreted as an array index, `arr[np.array(seq)]`, which will result either in an error or a different result.\n",
      "  temp = Y[sl]\n",
      "/home/parth/anaconda3/lib/python3.7/site-packages/scipy/signal/signaltools.py:2236: FutureWarning: Using a non-tuple sequence for multidimensional indexing is deprecated; use `arr[tuple(seq)]` instead of `arr[seq]`. In the future this will be interpreted as an array index, `arr[np.array(seq)]`, which will result either in an error or a different result.\n",
      "  Y[sl] = temp  # set that equal to the component at -N/2\n"
     ]
    }
   ],
   "source": [
    "X, y, class_names = preprocessing.create_data_tensor()"
   ]
  },
  {
   "cell_type": "code",
   "execution_count": 3,
   "metadata": {},
   "outputs": [
    {
     "name": "stdout",
     "output_type": "stream",
     "text": [
      "Dimensions of X: (2565, 22, 57)\n",
      "Possible Classes: dict_values(['make', 'polite', 'draw', 'soon', 'money', 'cost', 'when', 'innocent', 'pen', 'name', 'know', 'paper', 'no', 'I', 'tray', 'research', 'computer_PC_', 'ready', 'God', 'what', 'wait_notyet_', 'building', 'yes', 'different', 'sad', 'man', 'right', 'later', 'all', 'hurry', 'his_hers', 'hear', 'danger', 'eat', 'drink', 'share', 'thank', 'you', 'temper', 'juice', 'hurt', 'wild', 'please', 'give', 'come', 'glove', 'forget', 'more', 'which', 'shop', 'lose', 'maybe', 'stubborn', 'question', 'where', 'sorry', 'spend', 'girl', 'Norway', 'write', 'science', 'zero', 'buy', 'happy', 'hot', 'not', 'take', 'will', 'head', 'go', 'is_true_', 'think', 'why', 'deaf', 'answer', 'surprise', 'how', 'read', 'love', 'flash', 'boy', 'voluntary', 'hello', 'cold', 'change_mind_', 'mine', 'crazy', 'responsible', 'who', 'joke', 'same', 'wrong', 'alive', 'us', 'exit'])\n"
     ]
    }
   ],
   "source": [
    "print('Dimensions of X:', X.shape)\n",
    "print('Possible Classes:', class_names.values())"
   ]
  },
  {
   "cell_type": "code",
   "execution_count": 4,
   "metadata": {},
   "outputs": [
    {
     "name": "stdout",
     "output_type": "stream",
     "text": [
      "Dimensions of X after flattening:  (2565, 1254)\n"
     ]
    }
   ],
   "source": [
    "X_flat = preprocessing.flatten_data(X)\n",
    "print('Dimensions of X after flattening: ', X_flat.shape)"
   ]
  },
  {
   "cell_type": "markdown",
   "metadata": {},
   "source": [
    "## Logistic Regression"
   ]
  },
  {
   "cell_type": "code",
   "execution_count": 11,
   "metadata": {},
   "outputs": [
    {
     "name": "stdout",
     "output_type": "stream",
     "text": [
      "Training set dimensions:  (1795, 1254)\n",
      "Test set dimensions:  (770, 1254)\n"
     ]
    }
   ],
   "source": [
    "X_train, X_test, y_train, y_test = train_test_split(X_flat, y, test_size=0.3)\n",
    "print('Training set dimensions: ', X_train.shape)\n",
    "print('Test set dimensions: ', X_test.shape)"
   ]
  },
  {
   "cell_type": "code",
   "execution_count": 60,
   "metadata": {},
   "outputs": [
    {
     "name": "stderr",
     "output_type": "stream",
     "text": [
      "/home/parth/anaconda3/lib/python3.7/site-packages/sklearn/linear_model/logistic.py:433: FutureWarning: Default solver will be changed to 'lbfgs' in 0.22. Specify a solver to silence this warning.\n",
      "  FutureWarning)\n",
      "/home/parth/anaconda3/lib/python3.7/site-packages/sklearn/linear_model/logistic.py:460: FutureWarning: Default multi_class will be changed to 'auto' in 0.22. Specify the multi_class option to silence this warning.\n",
      "  \"this warning.\", FutureWarning)\n"
     ]
    },
    {
     "data": {
      "text/plain": [
       "LogisticRegression(C=10.0, class_weight=None, dual=False, fit_intercept=True,\n",
       "          intercept_scaling=1, max_iter=100, multi_class='warn',\n",
       "          n_jobs=None, penalty='l2', random_state=None, solver='warn',\n",
       "          tol=0.0001, verbose=0, warm_start=False)"
      ]
     },
     "execution_count": 60,
     "metadata": {},
     "output_type": "execute_result"
    }
   ],
   "source": [
    "log_reg_model = LogisticRegression(C=10.0, max_iter=100)\n",
    "log_reg_model.fit(X_train, y_train)"
   ]
  },
  {
   "cell_type": "code",
   "execution_count": 61,
   "metadata": {},
   "outputs": [],
   "source": [
    "y_train_predict = log_reg_model.predict(X_train)\n",
    "y_test_predict = log_reg_model.predict(X_test)"
   ]
  },
  {
   "cell_type": "markdown",
   "metadata": {},
   "source": [
    "## Evaluation"
   ]
  },
  {
   "cell_type": "code",
   "execution_count": 62,
   "metadata": {},
   "outputs": [
    {
     "name": "stdout",
     "output_type": "stream",
     "text": [
      "Training Set Accuracy:  1.0\n",
      "Test Set Accuracy:  0.9337662337662338\n"
     ]
    }
   ],
   "source": [
    "print('Training Set Accuracy: ', metrics.accuracy_score(y_train, y_train_predict))\n",
    "print('Test Set Accuracy: ', metrics.accuracy_score(y_test, y_test_predict))"
   ]
  },
  {
   "cell_type": "code",
   "execution_count": 63,
   "metadata": {},
   "outputs": [
    {
     "name": "stdout",
     "output_type": "stream",
     "text": [
      "              precision    recall  f1-score   support\n",
      "\n",
      "           0       1.00      1.00      1.00         4\n",
      "           1       1.00      1.00      1.00        12\n",
      "           2       1.00      0.45      0.62        11\n",
      "           3       0.67      1.00      0.80         8\n",
      "           4       1.00      0.83      0.91         6\n",
      "           5       1.00      1.00      1.00         8\n",
      "           6       0.89      0.73      0.80        11\n",
      "           7       1.00      0.67      0.80         9\n",
      "           8       0.78      0.88      0.82         8\n",
      "           9       0.89      1.00      0.94         8\n",
      "          10       1.00      0.88      0.93         8\n",
      "          11       1.00      1.00      1.00         6\n",
      "          12       0.86      1.00      0.92         6\n",
      "          13       1.00      0.71      0.83         7\n",
      "          14       1.00      1.00      1.00         9\n",
      "          15       1.00      0.89      0.94         9\n",
      "          16       1.00      1.00      1.00         8\n",
      "          17       1.00      1.00      1.00         7\n",
      "          18       1.00      1.00      1.00         7\n",
      "          19       1.00      0.80      0.89        10\n",
      "          20       1.00      1.00      1.00        11\n",
      "          21       1.00      1.00      1.00         6\n",
      "          22       0.90      1.00      0.95         9\n",
      "          23       1.00      1.00      1.00         7\n",
      "          24       1.00      0.86      0.92         7\n",
      "          25       1.00      0.67      0.80         9\n",
      "          26       1.00      1.00      1.00        12\n",
      "          27       1.00      0.88      0.93         8\n",
      "          28       1.00      1.00      1.00         9\n",
      "          29       1.00      0.89      0.94         9\n",
      "          30       1.00      1.00      1.00        11\n",
      "          31       1.00      1.00      1.00         6\n",
      "          32       0.82      1.00      0.90         9\n",
      "          33       0.90      0.90      0.90        10\n",
      "          34       0.90      1.00      0.95         9\n",
      "          35       1.00      0.86      0.92         7\n",
      "          36       1.00      1.00      1.00         7\n",
      "          37       1.00      0.90      0.95        10\n",
      "          38       1.00      1.00      1.00         9\n",
      "          39       1.00      1.00      1.00         7\n",
      "          40       1.00      0.78      0.88         9\n",
      "          41       1.00      1.00      1.00         7\n",
      "          42       0.80      1.00      0.89         8\n",
      "          43       1.00      1.00      1.00        10\n",
      "          44       1.00      1.00      1.00         6\n",
      "          45       0.90      1.00      0.95         9\n",
      "          46       1.00      0.91      0.95        11\n",
      "          47       1.00      0.89      0.94         9\n",
      "          48       1.00      1.00      1.00         6\n",
      "          49       1.00      0.88      0.93         8\n",
      "          50       0.92      1.00      0.96        12\n",
      "          51       0.67      1.00      0.80         4\n",
      "          52       1.00      1.00      1.00        11\n",
      "          53       1.00      0.90      0.95        10\n",
      "          54       1.00      1.00      1.00        11\n",
      "          55       0.86      1.00      0.92         6\n",
      "          56       1.00      1.00      1.00         7\n",
      "          57       1.00      0.86      0.92         7\n",
      "          58       1.00      1.00      1.00         4\n",
      "          59       0.86      1.00      0.92         6\n",
      "          60       0.67      1.00      0.80         2\n",
      "          61       0.70      0.88      0.78         8\n",
      "          62       1.00      0.86      0.92         7\n",
      "          63       0.90      1.00      0.95         9\n",
      "          64       1.00      0.90      0.95        10\n",
      "          65       1.00      1.00      1.00         8\n",
      "          66       1.00      1.00      1.00         6\n",
      "          67       1.00      1.00      1.00         2\n",
      "          68       0.90      1.00      0.95         9\n",
      "          69       1.00      1.00      1.00         7\n",
      "          70       1.00      0.89      0.94         9\n",
      "          71       0.75      1.00      0.86         9\n",
      "          72       1.00      1.00      1.00         4\n",
      "          73       1.00      0.91      0.95        11\n",
      "          74       0.90      1.00      0.95         9\n",
      "          75       0.80      1.00      0.89         4\n",
      "          76       0.86      0.86      0.86         7\n",
      "          77       0.50      1.00      0.67         6\n",
      "          78       0.88      1.00      0.93         7\n",
      "          79       1.00      1.00      1.00         8\n",
      "          80       0.80      0.67      0.73         6\n",
      "          81       1.00      1.00      1.00         8\n",
      "          82       1.00      1.00      1.00        16\n",
      "          83       1.00      1.00      1.00        10\n",
      "          84       0.89      0.89      0.89         9\n",
      "          85       0.50      1.00      0.67         4\n",
      "          86       0.91      0.77      0.83        13\n",
      "          87       1.00      1.00      1.00        11\n",
      "          88       1.00      0.73      0.84        11\n",
      "          89       1.00      1.00      1.00         6\n",
      "          90       0.88      1.00      0.93         7\n",
      "          91       1.00      1.00      1.00         9\n",
      "          92       0.86      1.00      0.92         6\n",
      "          93       0.88      1.00      0.93         7\n",
      "          94       1.00      1.00      1.00        10\n",
      "\n",
      "   micro avg       0.93      0.93      0.93       770\n",
      "   macro avg       0.94      0.94      0.93       770\n",
      "weighted avg       0.95      0.93      0.93       770\n",
      "\n"
     ]
    }
   ],
   "source": [
    "print(metrics.classification_report(y_test, y_test_predict))"
   ]
  },
  {
   "cell_type": "markdown",
   "metadata": {},
   "source": [
    "## Confusion Matrix"
   ]
  },
  {
   "cell_type": "code",
   "execution_count": 82,
   "metadata": {},
   "outputs": [
    {
     "data": {
      "text/plain": [
       "<matplotlib.image.AxesImage at 0x7f51cdccfba8>"
      ]
     },
     "execution_count": 82,
     "metadata": {},
     "output_type": "execute_result"
    },
    {
     "data": {
      "image/png": "[encoded data removed]",
      "text/plain": [
       "<Figure size 432x288 with 1 Axes>"
      ]
     },
     "metadata": {
      "needs_background": "light"
     },
     "output_type": "display_data"
    }
   ],
   "source": [
    "import matplotlib.pyplot as plt\n",
    "from sklearn.metrics import confusion_matrix\n",
    "\n",
    "plt.imshow(confusion_matrix(y_test, y_test_predict))"
   ]
  }
 ],
 "metadata": {
  "language_info": {
   "codemirror_mode": {
    "name": "ipython",
    "version": 3
   },
   "file_extension": ".py",
   "mimetype": "text/x-python",
   "name": "python",
   "nbconvert_exporter": "python",
   "pygments_lexer": "ipython3",
   "version": "3.7.1"
  }
 },
 "nbformat": 4,
 "nbformat_minor": 2
}
